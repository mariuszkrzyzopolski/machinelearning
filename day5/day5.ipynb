{
 "cells": [
  {
   "cell_type": "code",
   "execution_count": 2,
   "metadata": {},
   "outputs": [],
   "source": [
    "import pandas as pd\n",
    "import numpy as np\n",
    "\n",
    "from sklearn.tree import DecisionTreeRegressor\n",
    "from sklearn.ensemble import RandomForestRegressor\n",
    "from sklearn.model_selection import cross_val_score\n",
    "\n",
    "%matplotlib inline"
   ]
  },
  {
   "cell_type": "code",
   "execution_count": 3,
   "metadata": {},
   "outputs": [
    {
     "data": {
      "text/html": [
       "<div>\n",
       "<style scoped>\n",
       "    .dataframe tbody tr th:only-of-type {\n",
       "        vertical-align: middle;\n",
       "    }\n",
       "\n",
       "    .dataframe tbody tr th {\n",
       "        vertical-align: top;\n",
       "    }\n",
       "\n",
       "    .dataframe thead th {\n",
       "        text-align: right;\n",
       "    }\n",
       "</style>\n",
       "<table border=\"1\" class=\"dataframe\">\n",
       "  <thead>\n",
       "    <tr style=\"text-align: right;\">\n",
       "      <th></th>\n",
       "      <th>index</th>\n",
       "      <th>time_stamp</th>\n",
       "      <th>stop</th>\n",
       "      <th>stopName</th>\n",
       "      <th>number</th>\n",
       "      <th>direction</th>\n",
       "      <th>plannedTime</th>\n",
       "      <th>vehicleId</th>\n",
       "      <th>tripId</th>\n",
       "      <th>status</th>\n",
       "      <th>delay</th>\n",
       "      <th>seq_num</th>\n",
       "    </tr>\n",
       "  </thead>\n",
       "  <tbody>\n",
       "    <tr>\n",
       "      <th>0</th>\n",
       "      <td>1</td>\n",
       "      <td>2018-07-23 06:00:45</td>\n",
       "      <td>378</td>\n",
       "      <td>Os.Piastów</td>\n",
       "      <td>21</td>\n",
       "      <td>Kopiec Wandy</td>\n",
       "      <td>2018-07-23 05:59:00</td>\n",
       "      <td>NaN</td>\n",
       "      <td>6351558574044883205</td>\n",
       "      <td>PLANNED</td>\n",
       "      <td>1</td>\n",
       "      <td>1.0</td>\n",
       "    </tr>\n",
       "    <tr>\n",
       "      <th>1</th>\n",
       "      <td>1</td>\n",
       "      <td>2018-07-23 06:00:47</td>\n",
       "      <td>612</td>\n",
       "      <td>Borsucza</td>\n",
       "      <td>22</td>\n",
       "      <td>Walcownia</td>\n",
       "      <td>2018-07-23 06:00:00</td>\n",
       "      <td>6.352185e+18</td>\n",
       "      <td>6351558574044899587</td>\n",
       "      <td>STOPPING</td>\n",
       "      <td>0</td>\n",
       "      <td>7.0</td>\n",
       "    </tr>\n",
       "    <tr>\n",
       "      <th>2</th>\n",
       "      <td>1</td>\n",
       "      <td>2018-07-23 06:00:48</td>\n",
       "      <td>572</td>\n",
       "      <td>Smolki</td>\n",
       "      <td>11</td>\n",
       "      <td>Czerwone Maki P+R</td>\n",
       "      <td>2018-07-23 06:00:00</td>\n",
       "      <td>6.352185e+18</td>\n",
       "      <td>6351558574044670211</td>\n",
       "      <td>STOPPING</td>\n",
       "      <td>0</td>\n",
       "      <td>10.0</td>\n",
       "    </tr>\n",
       "    <tr>\n",
       "      <th>3</th>\n",
       "      <td>1</td>\n",
       "      <td>2018-07-23 06:00:49</td>\n",
       "      <td>319</td>\n",
       "      <td>Jubilat</td>\n",
       "      <td>1</td>\n",
       "      <td>Wzgórza K.</td>\n",
       "      <td>2018-07-23 05:59:00</td>\n",
       "      <td>NaN</td>\n",
       "      <td>6351558574044363010</td>\n",
       "      <td>PLANNED</td>\n",
       "      <td>1</td>\n",
       "      <td>3.0</td>\n",
       "    </tr>\n",
       "    <tr>\n",
       "      <th>4</th>\n",
       "      <td>1</td>\n",
       "      <td>2018-07-23 06:00:49</td>\n",
       "      <td>322</td>\n",
       "      <td>Filharmonia</td>\n",
       "      <td>8</td>\n",
       "      <td>Bronowice Małe</td>\n",
       "      <td>2018-07-23 06:01:00</td>\n",
       "      <td>6.352185e+18</td>\n",
       "      <td>6351558574044592386</td>\n",
       "      <td>STOPPING</td>\n",
       "      <td>0</td>\n",
       "      <td>15.0</td>\n",
       "    </tr>\n",
       "  </tbody>\n",
       "</table>\n",
       "</div>"
      ],
      "text/plain": [
       "   index           time_stamp  stop     stopName  number          direction  \\\n",
       "0      1  2018-07-23 06:00:45   378   Os.Piastów      21       Kopiec Wandy   \n",
       "1      1  2018-07-23 06:00:47   612     Borsucza      22          Walcownia   \n",
       "2      1  2018-07-23 06:00:48   572       Smolki      11  Czerwone Maki P+R   \n",
       "3      1  2018-07-23 06:00:49   319      Jubilat       1         Wzgórza K.   \n",
       "4      1  2018-07-23 06:00:49   322  Filharmonia       8     Bronowice Małe   \n",
       "\n",
       "           plannedTime     vehicleId               tripId    status  delay  \\\n",
       "0  2018-07-23 05:59:00           NaN  6351558574044883205   PLANNED      1   \n",
       "1  2018-07-23 06:00:00  6.352185e+18  6351558574044899587  STOPPING      0   \n",
       "2  2018-07-23 06:00:00  6.352185e+18  6351558574044670211  STOPPING      0   \n",
       "3  2018-07-23 05:59:00           NaN  6351558574044363010   PLANNED      1   \n",
       "4  2018-07-23 06:01:00  6.352185e+18  6351558574044592386  STOPPING      0   \n",
       "\n",
       "   seq_num  \n",
       "0      1.0  \n",
       "1      7.0  \n",
       "2     10.0  \n",
       "3      3.0  \n",
       "4     15.0  "
      ]
     },
     "execution_count": 3,
     "metadata": {},
     "output_type": "execute_result"
    }
   ],
   "source": [
    "df = pd.read_csv('https://raw.githubusercontent.com/aczepielik/KRKtram/master/reports/report_07-23.csv')\n",
    "df1 = pd.read_csv('https://raw.githubusercontent.com/aczepielik/KRKtram/master/reports/report_07-24.csv')\n",
    "df = pd.concat([df, df1])\n",
    "df.head()"
   ]
  },
  {
   "cell_type": "code",
   "execution_count": 4,
   "metadata": {},
   "outputs": [
    {
     "data": {
      "text/plain": [
       "0     0.414514\n",
       "1     0.357610\n",
       "2     0.119549\n",
       "3     0.056005\n",
       "4     0.026023\n",
       "5     0.012583\n",
       "6     0.005742\n",
       "7     0.003386\n",
       "8     0.001479\n",
       "9     0.001078\n",
       "10    0.000857\n",
       "11    0.000408\n",
       "14    0.000249\n",
       "12    0.000235\n",
       "13    0.000166\n",
       "15    0.000076\n",
       "16    0.000021\n",
       "19    0.000014\n",
       "18    0.000007\n",
       "Name: delay, dtype: float64"
      ]
     },
     "execution_count": 4,
     "metadata": {},
     "output_type": "execute_result"
    }
   ],
   "source": [
    "df.delay.value_counts(normalize=True)"
   ]
  },
  {
   "cell_type": "code",
   "execution_count": 5,
   "metadata": {},
   "outputs": [
    {
     "data": {
      "text/plain": [
       "<matplotlib.axes._subplots.AxesSubplot at 0x28d7abc25c0>"
      ]
     },
     "execution_count": 5,
     "metadata": {},
     "output_type": "execute_result"
    },
    {
     "data": {
      "image/png": "[encoded data removed]",
      "text/plain": [
       "<Figure size 432x288 with 1 Axes>"
      ]
     },
     "metadata": {
      "needs_background": "light"
     },
     "output_type": "display_data"
    }
   ],
   "source": [
    "df.delay.hist(bins=15)"
   ]
  },
  {
   "cell_type": "code",
   "execution_count": 6,
   "metadata": {},
   "outputs": [
    {
     "data": {
      "text/plain": [
       "count    144719.000000\n",
       "mean          1.034785\n",
       "std           1.352726\n",
       "min           0.000000\n",
       "25%           0.000000\n",
       "50%           1.000000\n",
       "75%           1.000000\n",
       "max          19.000000\n",
       "Name: delay, dtype: float64"
      ]
     },
     "execution_count": 6,
     "metadata": {},
     "output_type": "execute_result"
    }
   ],
   "source": [
    "df.delay.describe()"
   ]
  },
  {
   "cell_type": "code",
   "execution_count": 7,
   "metadata": {},
   "outputs": [
    {
     "data": {
      "text/plain": [
       "Index(['index', 'time_stamp', 'stop', 'stopName', 'number', 'direction',\n",
       "       'plannedTime', 'vehicleId', 'tripId', 'status', 'delay', 'seq_num'],\n",
       "      dtype='object')"
      ]
     },
     "execution_count": 7,
     "metadata": {},
     "output_type": "execute_result"
    }
   ],
   "source": [
    "df.columns"
   ]
  },
  {
   "cell_type": "code",
   "execution_count": 21,
   "metadata": {},
   "outputs": [
    {
     "data": {
      "text/plain": [
       "DecisionTreeRegressor(criterion='mse', max_depth=10, max_features=None,\n",
       "           max_leaf_nodes=None, min_impurity_decrease=0.0,\n",
       "           min_impurity_split=None, min_samples_leaf=1,\n",
       "           min_samples_split=2, min_weight_fraction_leaf=0.0,\n",
       "           presort=False, random_state=0, splitter='best')"
      ]
     },
     "execution_count": 21,
     "metadata": {},
     "output_type": "execute_result"
    }
   ],
   "source": [
    "df['delay_secs'] = df['delay'].map(lambda x: x*60)\n",
    "df['direction_cat'] = df['direction'].factorize()[0]\n",
    "df['vehicleId'].fillna(-1, inplace=True)\n",
    "df['seq_num'].fillna(-1, inplace=True)\n",
    "\n",
    "df['number_direct_id'] = df.apply(lambda x: '{} {}'.format(x['number'], x['direction']), axis=1).factorize()[0]\n",
    "df['stop_direct_id'] = df.apply(lambda x: '{} {}'.format(x['stop'], x['direction']), axis=1).factorize()[0]\n",
    "feats =[\n",
    "    'number',\n",
    "    'stop', \n",
    "    'direction_cat', \n",
    "    'vehicleId', \n",
    "    'seq_num',\n",
    "    'number_direct_id',\n",
    "    'stop_direct_id',\n",
    "]\n",
    "\n",
    "X = df[ feats ].values \n",
    "y = df['delay_secs'].values\n",
    "\n",
    "\n",
    "model = DecisionTreeRegressor(max_depth=10, random_state=0)\n",
    "scores = cross_val_score(model, X, y, cv=3, scoring='neg_mean_absolute_error')\n",
    "np.mean(scores), np.std(scores)\n",
    "model.fit(X, y)"
   ]
  },
  {
   "cell_type": "code",
   "execution_count": 25,
   "metadata": {},
   "outputs": [
    {
     "data": {
      "text/plain": [
       "array([42.62626263])"
      ]
     },
     "execution_count": 25,
     "metadata": {},
     "output_type": "execute_result"
    }
   ],
   "source": [
    "my_test = [ [11, 572, 0, 6352185295672180943, 4, 0, 0] ]\n",
    "model.predict(my_test)"
   ]
  },
  {
   "cell_type": "markdown",
   "metadata": {},
   "source": [
    "5,2018-07-24 04:33:13,589,\"Ruczaj\",11,\"Mały Płaszów\",2018-07-24 04:33:00,\"6352185295672180943\",\"6351558574044654082\",\"STOPPING\",0,4"
   ]
  }
 ],
 "metadata": {
  "kernelspec": {
   "display_name": "Python 3",
   "language": "python",
   "name": "python3"
  },
  "language_info": {
   "codemirror_mode": {
    "name": "ipython",
    "version": 3
   },
   "file_extension": ".py",
   "mimetype": "text/x-python",
   "name": "python",
   "nbconvert_exporter": "python",
   "pygments_lexer": "ipython3",
   "version": "3.7.1"
  }
 },
 "nbformat": 4,
 "nbformat_minor": 2
}
